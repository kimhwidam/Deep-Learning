{
  "nbformat": 4,
  "nbformat_minor": 0,
  "metadata": {
    "colab": {
      "provenance": [],
      "gpuType": "T4",
      "authorship_tag": "ABX9TyP9b5uv3H8UKdyDnC4/nbkP",
      "include_colab_link": true
    },
    "kernelspec": {
      "name": "python3",
      "display_name": "Python 3"
    },
    "language_info": {
      "name": "python"
    },
    "accelerator": "GPU"
  },
  "cells": [
    {
      "cell_type": "markdown",
      "metadata": {
        "id": "view-in-github",
        "colab_type": "text"
      },
      "source": [
        "<a href=\"https://colab.research.google.com/github/kimhwidam/Deep-Learning/blob/main/DL_3%EC%9D%BC%EC%B0%A8.ipynb\" target=\"_parent\"><img src=\"https://colab.research.google.com/assets/colab-badge.svg\" alt=\"Open In Colab\"/></a>"
      ]
    },
    {
      "cell_type": "markdown",
      "source": [
        "## DL 3일차 - Basic of Pytorch"
      ],
      "metadata": {
        "id": "X1ELyNENblUw"
      }
    },
    {
      "cell_type": "markdown",
      "source": [
        "### MNIST 데이터 분류"
      ],
      "metadata": {
        "id": "MxMrA8j_eJV8"
      }
    },
    {
      "cell_type": "code",
      "execution_count": 27,
      "metadata": {
        "id": "GlDl5esmbfwD"
      },
      "outputs": [],
      "source": [
        "# 모듈 임포트\n",
        "import torch\n",
        "import torch.nn as nn\n",
        "import torch.nn.functional as F\n",
        "import torch.optim as optim\n",
        "from torchvision import datasets, transforms\n",
        "\n",
        "from matplotlib import pyplot as plt\n",
        "%matplotlib inline"
      ]
    },
    {
      "cell_type": "code",
      "source": [
        "# cuda 설정 -> gpu\n",
        "is_cuda = torch.cuda.is_available()\n",
        "device = torch.device('cuda' if is_cuda else 'cpu')\n",
        "\n",
        "print('Current cuda device is', device)"
      ],
      "metadata": {
        "colab": {
          "base_uri": "https://localhost:8080/"
        },
        "id": "A4vbblbxee25",
        "outputId": "3576f7f4-5856-44bb-97b9-efed9ee86146"
      },
      "execution_count": 28,
      "outputs": [
        {
          "output_type": "stream",
          "name": "stdout",
          "text": [
            "Current cuda device is cuda\n"
          ]
        }
      ]
    },
    {
      "cell_type": "code",
      "source": [
        "# 파라미터 설정\n",
        "batch_size = 50\n",
        "learning_rate = 1e-3\n",
        "epoch_num = 15\n",
        "\n",
        "# MNIST 데이터 불러오기\n",
        "train_data = datasets.MNIST(root='./data', train=True, download=True, transform=transforms.ToTensor())\n",
        "test_data = datasets.MNIST(root='./data', train=False, transform=transforms.ToTensor())\n",
        "\n",
        "print('number of train data: ', len(train_data))\n",
        "print('number of test data: ', len(test_data))"
      ],
      "metadata": {
        "colab": {
          "base_uri": "https://localhost:8080/"
        },
        "id": "_nmmi9rmewXp",
        "outputId": "9e7c4d1e-fe75-419f-9adc-9f2df4398e64"
      },
      "execution_count": 29,
      "outputs": [
        {
          "output_type": "stream",
          "name": "stdout",
          "text": [
            "number of train data:  60000\n",
            "number of test data:  10000\n"
          ]
        }
      ]
    },
    {
      "cell_type": "code",
      "source": [
        "# 그림 확인해보기\n",
        "image, label = train_data[0]\n",
        "\n",
        "# squeeze() -> 차원이 1인 차원을 제거\n",
        "plt.imshow(image.squeeze().numpy(), cmap='gray')\n",
        "plt.title('label : %s' % label)\n",
        "plt.show()"
      ],
      "metadata": {
        "colab": {
          "base_uri": "https://localhost:8080/",
          "height": 452
        },
        "id": "de5Pn6_7f0DP",
        "outputId": "aad59754-691d-4773-e52b-5948a3ab4b42"
      },
      "execution_count": 30,
      "outputs": [
        {
          "output_type": "display_data",
          "data": {
            "text/plain": [
              "<Figure size 640x480 with 1 Axes>"
            ],
            "image/png": "[encoded data removed]"
          },
          "metadata": {}
        }
      ]
    },
    {
      "cell_type": "code",
      "source": [
        "# 미니 배치 구성\n",
        "# 배치 단위로 데이터 공급 -> DataLoader\n",
        "train_loader = torch.utils.data.DataLoader(dataset=train_data, batch_size=batch_size, shuffle=True)\n",
        "test_loader = torch.utils.data.DataLoader(dataset=test_data, batch_size=batch_size, shuffle=True)\n",
        "first_batch = train_loader.__iter__().__next__()"
      ],
      "metadata": {
        "id": "JWkvkuyJiuzw"
      },
      "execution_count": 31,
      "outputs": []
    },
    {
      "cell_type": "code",
      "source": [
        "len(train_loader)"
      ],
      "metadata": {
        "colab": {
          "base_uri": "https://localhost:8080/"
        },
        "id": "SYFJRjBWjYkm",
        "outputId": "f616c7b6-3c78-4a90-b21e-60b14e996673"
      },
      "execution_count": 32,
      "outputs": [
        {
          "output_type": "execute_result",
          "data": {
            "text/plain": [
              "1200"
            ]
          },
          "metadata": {},
          "execution_count": 32
        }
      ]
    },
    {
      "cell_type": "code",
      "source": [
        "type(first_batch[0])"
      ],
      "metadata": {
        "colab": {
          "base_uri": "https://localhost:8080/"
        },
        "id": "vK903v6uj6xs",
        "outputId": "b3da9c9d-015b-4a52-b7cc-efdc5ff8eef2"
      },
      "execution_count": 33,
      "outputs": [
        {
          "output_type": "execute_result",
          "data": {
            "text/plain": [
              "torch.Tensor"
            ]
          },
          "metadata": {},
          "execution_count": 33
        }
      ]
    },
    {
      "cell_type": "code",
      "source": [
        "# 모델 생성 클래스\n",
        "class CNN(nn.Module):\n",
        "    def __init__(self):\n",
        "        super(CNN, self).__init__()\n",
        "        self.conv1 = nn.Conv2d(1, 32, 3, 1, padding='same')\n",
        "        self.conv2 = nn.Conv2d(32, 64, 3, 1, padding='same')\n",
        "        self.dropout = nn.Dropout2d(0.25)\n",
        "        self.fc1 = nn.Linear(3136, 1000) # 7*7*64 = 3136\n",
        "        self.fc2 = nn.Linear(1000, 10)\n",
        "\n",
        "    def forward(self, x):\n",
        "        x = self.conv1(x)\n",
        "        x = F.relu(x)\n",
        "        x = F.max_pool2d(x, 2)\n",
        "        x = self.conv2(x)\n",
        "        x = F.relu(x)\n",
        "        x = F.max_pool2d(x, 2)\n",
        "        x = self.dropout(x)\n",
        "        x = torch.flatten(x, 1)\n",
        "        x = self.fc1(x)\n",
        "        x = F.relu(x)\n",
        "        x = self.fc2(x)\n",
        "        output = F.log_softmax(x, dim=1)\n",
        "        return output"
      ],
      "metadata": {
        "id": "x7xEbwRUj-HQ"
      },
      "execution_count": 37,
      "outputs": []
    },
    {
      "cell_type": "code",
      "source": [
        "model = CNN().to(device)\n",
        "optimizer = optim.Adam(model.parameters(), lr=learning_rate)\n",
        "criterion = nn.CrossEntropyLoss()"
      ],
      "metadata": {
        "id": "DnCWOvi1k9Hb"
      },
      "execution_count": 38,
      "outputs": []
    },
    {
      "cell_type": "code",
      "source": [
        "# 학습\n",
        "model.train()\n",
        "i = 1\n",
        "for epoch in range(epoch_num):\n",
        "    for data, target in train_loader:\n",
        "        data, target = data.to(device), target.to(device)\n",
        "\n",
        "        optimizer.zero_grad()\n",
        "        output = model(data)\n",
        "\n",
        "        loss = criterion(output, target)\n",
        "        loss.backward()\n",
        "        optimizer.step()\n",
        "\n",
        "        if i % 1000 == 0:\n",
        "            print('Train Step: {}\\tLoss: {:.3f}'.format(i, loss.item()))\n",
        "        i += 1"
      ],
      "metadata": {
        "colab": {
          "base_uri": "https://localhost:8080/"
        },
        "id": "xQ7P4LIilIzk",
        "outputId": "309b2b51-abab-4ea6-c868-e19c3145601e"
      },
      "execution_count": 39,
      "outputs": [
        {
          "output_type": "stream",
          "name": "stdout",
          "text": [
            "Train Step: 1000\tLoss: 0.030\n",
            "Train Step: 2000\tLoss: 0.001\n",
            "Train Step: 3000\tLoss: 0.021\n",
            "Train Step: 4000\tLoss: 0.012\n",
            "Train Step: 5000\tLoss: 0.001\n",
            "Train Step: 6000\tLoss: 0.064\n",
            "Train Step: 7000\tLoss: 0.028\n",
            "Train Step: 8000\tLoss: 0.003\n",
            "Train Step: 9000\tLoss: 0.000\n",
            "Train Step: 10000\tLoss: 0.001\n",
            "Train Step: 11000\tLoss: 0.000\n",
            "Train Step: 12000\tLoss: 0.003\n",
            "Train Step: 13000\tLoss: 0.000\n",
            "Train Step: 14000\tLoss: 0.154\n",
            "Train Step: 15000\tLoss: 0.000\n",
            "Train Step: 16000\tLoss: 0.000\n",
            "Train Step: 17000\tLoss: 0.000\n",
            "Train Step: 18000\tLoss: 0.000\n"
          ]
        }
      ]
    },
    {
      "cell_type": "code",
      "source": [
        "# 평가\n",
        "model.eval()\n",
        "\n",
        "correct = 0\n",
        "\n",
        "for data, target in test_loader:\n",
        "    data, target = data.to(device), target.to(device)\n",
        "\n",
        "    ouput = model(data)\n",
        "    prediction = output.data.max(1)[1]\n",
        "    correct += prediction.eq(target.data).sum()\n",
        "\n",
        "print(correct / 10000)\n"
      ],
      "metadata": {
        "colab": {
          "base_uri": "https://localhost:8080/"
        },
        "id": "ozaTq2n3lpox",
        "outputId": "8641c4c6-e191-45a3-df07-ad570a487467"
      },
      "execution_count": 41,
      "outputs": [
        {
          "output_type": "stream",
          "name": "stdout",
          "text": [
            "tensor(0.1003, device='cuda:0')\n"
          ]
        }
      ]
    },
    {
      "cell_type": "code",
      "source": [],
      "metadata": {
        "id": "UuaeUNMinyQL"
      },
      "execution_count": null,
      "outputs": []
    }
  ]
}